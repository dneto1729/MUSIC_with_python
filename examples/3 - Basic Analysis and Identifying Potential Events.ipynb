{
 "cells": [
  {
   "cell_type": "markdown",
   "id": "3235a1c4-ef71-4c0c-a8aa-99f46779646b",
   "metadata": {},
   "source": [
    "# Example 3 : Basic Analysis and Identifying Potential Events\n",
    "\n",
    "In this notebook, we will ..."
   ]
  },
  {
   "cell_type": "code",
   "execution_count": 1,
   "id": "b7fef0d2-14a4-4b69-8349-3f703bc4844f",
   "metadata": {
    "tags": []
   },
   "outputs": [],
   "source": [
    "import pandas as pd\n",
    "import numpy as np\n",
    "import matplotlib as mpl\n",
    "\n",
    "import matplotlib.pyplot as plt\n",
    "%matplotlib inline\n",
    "plt.rcParams['figure.dpi'] = 200 # bigger figures\n",
    "\n",
    "# Use more REVTEX-esque fonts\n",
    "mpl.rcParams[\"font.family\"] = \"serif\"\n",
    "mpl.rcParams[\"font.serif\"] = \"STIXGeneral\"\n",
    "mpl.rcParams[\"mathtext.fontset\"] = \"stix\""
   ]
  },
  {
   "cell_type": "markdown",
   "id": "f4b35a12-baed-4a1f-b62f-da8f9e74eade",
   "metadata": {},
   "source": [
    "..."
   ]
  },
  {
   "cell_type": "code",
   "execution_count": null,
   "id": "55cc2c17-7ee0-48eb-a940-072cb8e0a12c",
   "metadata": {},
   "outputs": [],
   "source": []
  }
 ],
 "metadata": {
  "kernelspec": {
   "display_name": "Python 3 (ipykernel)",
   "language": "python",
   "name": "python3"
  },
  "language_info": {
   "codemirror_mode": {
    "name": "ipython",
    "version": 3
   },
   "file_extension": ".py",
   "mimetype": "text/x-python",
   "name": "python",
   "nbconvert_exporter": "python",
   "pygments_lexer": "ipython3",
   "version": "3.9.18"
  }
 },
 "nbformat": 4,
 "nbformat_minor": 5
}
