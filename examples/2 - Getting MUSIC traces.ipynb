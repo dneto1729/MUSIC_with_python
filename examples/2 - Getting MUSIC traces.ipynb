{
 "cells": [
  {
   "cell_type": "markdown",
   "metadata": {},
   "source": [
    "# Example 2 : Getting MUSIC traces\n",
    "\n",
    "In this notebook we will perform some basic analysis to get some potential fusion traces to look at. Building off of what we learned in example 1, we will use the test MUSIC data and build a panda's dataframe from the ROOT file. Since the test data file is fairly small in size (~ 18 MB) we can do this all in memomory. However, for larger files, it is often best to do the ROOT to dataframe conversion once and then save the dataframe as some type of panda's readable formated file (we will look at this in the next example). First, let's setup our notebook.  "
   ]
  },
  {
   "cell_type": "code",
   "execution_count": 1,
   "metadata": {},
   "outputs": [],
   "source": [
    "import uproot\n",
    "import pandas as pd\n",
    "import numpy as np\n",
    "import matplotlib as mpl\n",
    "\n",
    "import matplotlib.pyplot as plt\n",
    "%matplotlib inline\n",
    "plt.rcParams['figure.dpi'] = 200 # bigger figures\n",
    "\n",
    "# Use more REVTEX-esque fonts\n",
    "mpl.rcParams[\"font.family\"] = \"serif\"\n",
    "mpl.rcParams[\"font.serif\"] = \"STIXGeneral\"\n",
    "mpl.rcParams[\"mathtext.fontset\"] = \"stix\""
   ]
  },
  {
   "cell_type": "markdown",
   "metadata": {},
   "source": [
    "Now, we open the ROOT file, grab the tree, convert the brances to arrays."
   ]
  },
  {
   "cell_type": "code",
   "execution_count": 6,
   "metadata": {},
   "outputs": [
    {
     "data": {
      "text/plain": [
       "<Array [{edepl: 366, edepr: 50, ... tac: 710}] type='4285264 * {\"edepl\": float32...'>"
      ]
     },
     "execution_count": 6,
     "metadata": {},
     "output_type": "execute_result"
    }
   ],
   "source": [
    "file = uproot.open(\"test_music_data.root\")\n",
    "tree = file['tree']\n",
    "branches = tree.arrays()\n",
    "\n",
    "branches"
   ]
  },
  {
   "cell_type": "code",
   "execution_count": null,
   "metadata": {},
   "outputs": [],
   "source": []
  }
 ],
 "metadata": {
  "kernelspec": {
   "display_name": "base",
   "language": "python",
   "name": "python3"
  },
  "language_info": {
   "codemirror_mode": {
    "name": "ipython",
    "version": 3
   },
   "file_extension": ".py",
   "mimetype": "text/x-python",
   "name": "python",
   "nbconvert_exporter": "python",
   "pygments_lexer": "ipython3",
   "version": "3.9.18"
  }
 },
 "nbformat": 4,
 "nbformat_minor": 2
}
