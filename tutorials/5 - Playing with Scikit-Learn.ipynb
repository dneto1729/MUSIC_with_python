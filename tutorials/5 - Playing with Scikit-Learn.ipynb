{
 "cells": [
  {
   "cell_type": "markdown",
   "id": "25dccfec-acd0-4a17-a3db-6a8a9ea29eb9",
   "metadata": {},
   "source": [
    "# Example 5 : Playing with Scikit-Learn\n",
    "\n",
    "[Scikit-learn](https://scikit-learn.org/stable/) is a Python package designed for ..."
   ]
  },
  {
   "cell_type": "code",
   "execution_count": 2,
   "id": "2211239b-c358-457d-a514-f3cbada52b47",
   "metadata": {},
   "outputs": [],
   "source": [
    "import pandas as pd\n",
    "import numpy as np\n",
    "import matplotlib as mpl\n",
    "\n",
    "import matplotlib.pyplot as plt\n",
    "%matplotlib inline\n",
    "plt.rcParams['figure.dpi'] = 200 # bigger figures\n",
    "\n",
    "# Use more REVTEX-esque fonts\n",
    "mpl.rcParams[\"font.family\"] = \"serif\"\n",
    "mpl.rcParams[\"font.serif\"] = \"STIXGeneral\"\n",
    "mpl.rcParams[\"mathtext.fontset\"] = \"stix\""
   ]
  },
  {
   "cell_type": "code",
   "execution_count": null,
   "id": "038f0f26-e4ee-49a4-9fa0-7e2283d4a2e7",
   "metadata": {},
   "outputs": [],
   "source": []
  }
 ],
 "metadata": {
  "kernelspec": {
   "display_name": "Python 3 (ipykernel)",
   "language": "python",
   "name": "python3"
  },
  "language_info": {
   "codemirror_mode": {
    "name": "ipython",
    "version": 3
   },
   "file_extension": ".py",
   "mimetype": "text/x-python",
   "name": "python",
   "nbconvert_exporter": "python",
   "pygments_lexer": "ipython3",
   "version": "3.9.20"
  }
 },
 "nbformat": 4,
 "nbformat_minor": 5
}
